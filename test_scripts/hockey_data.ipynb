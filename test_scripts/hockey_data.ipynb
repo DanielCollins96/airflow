{
 "cells": [
  {
   "cell_type": "code",
   "execution_count": 22,
   "metadata": {},
   "outputs": [],
   "source": [
    "import pandas as pd\n",
    "from bs4 import BeautifulSoup\n",
    "import requests\n",
    "import re\n",
    "import os\n",
    "import psycopg2\n",
    "import datetime\n",
    "import csv\n",
    "\n"
   ]
  },
  {
   "cell_type": "code",
   "execution_count": 65,
   "metadata": {},
   "outputs": [],
   "source": [
    "PROCESSED_DATA_PATH = f'/Users/danielcollins/airflow/processed_data.csv'\n"
   ]
  },
  {
   "cell_type": "code",
   "execution_count": 66,
   "metadata": {},
   "outputs": [
    {
     "data": {
      "text/plain": [
       "'/Users/danielcollins/airflow/processed_data.csv'"
      ]
     },
     "execution_count": 66,
     "metadata": {},
     "output_type": "execute_result"
    }
   ],
   "source": [
    "PROCESSED_DATA_PATH"
   ]
  },
  {
   "cell_type": "code",
   "execution_count": 17,
   "metadata": {},
   "outputs": [],
   "source": [
    "conn = psycopg2.connect(database=\"hockey\", user=\"postgres\", password=\"postgres\", host=\"localhost\", port=\"5432\")"
   ]
  },
  {
   "cell_type": "code",
   "execution_count": 4,
   "metadata": {},
   "outputs": [],
   "source": [
    "cur = conn.cursor()"
   ]
  },
  {
   "cell_type": "code",
   "execution_count": 68,
   "metadata": {},
   "outputs": [
    {
     "data": {
      "text/html": [
       "<div>\n",
       "<style scoped>\n",
       "    .dataframe tbody tr th:only-of-type {\n",
       "        vertical-align: middle;\n",
       "    }\n",
       "\n",
       "    .dataframe tbody tr th {\n",
       "        vertical-align: top;\n",
       "    }\n",
       "\n",
       "    .dataframe thead th {\n",
       "        text-align: right;\n",
       "    }\n",
       "</style>\n",
       "<table border=\"1\" class=\"dataframe\">\n",
       "  <thead>\n",
       "    <tr style=\"text-align: right;\">\n",
       "      <th></th>\n",
       "      <th>time</th>\n",
       "      <th>id</th>\n",
       "    </tr>\n",
       "  </thead>\n",
       "  <tbody>\n",
       "    <tr>\n",
       "      <th>0</th>\n",
       "      <td>2021-11-28 16:05:24.792307</td>\n",
       "      <td>9863</td>\n",
       "    </tr>\n",
       "  </tbody>\n",
       "</table>\n",
       "</div>"
      ],
      "text/plain": [
       "                        time    id\n",
       "0 2021-11-28 16:05:24.792307  9863"
      ]
     },
     "execution_count": 68,
     "metadata": {},
     "output_type": "execute_result"
    }
   ],
   "source": [
    "df"
   ]
  },
  {
   "cell_type": "code",
   "execution_count": 67,
   "metadata": {},
   "outputs": [
    {
     "ename": "DatabaseError",
     "evalue": "Execution failed on sql 'SELECT name FROM sqlite_master WHERE type='table' AND name=?;': relation \"sqlite_master\" does not exist\nLINE 1: SELECT name FROM sqlite_master WHERE type='table' AND name=?...\n                         ^\n",
     "output_type": "error",
     "traceback": [
      "\u001b[0;31m---------------------------------------------------------------------------\u001b[0m",
      "\u001b[0;31mUndefinedTable\u001b[0m                            Traceback (most recent call last)",
      "\u001b[0;32m~/opt/anaconda3/lib/python3.8/site-packages/pandas/io/sql.py\u001b[0m in \u001b[0;36mexecute\u001b[0;34m(self, *args, **kwargs)\u001b[0m\n\u001b[1;32m   1680\u001b[0m         \u001b[0;32mtry\u001b[0m\u001b[0;34m:\u001b[0m\u001b[0;34m\u001b[0m\u001b[0;34m\u001b[0m\u001b[0m\n\u001b[0;32m-> 1681\u001b[0;31m             \u001b[0mcur\u001b[0m\u001b[0;34m.\u001b[0m\u001b[0mexecute\u001b[0m\u001b[0;34m(\u001b[0m\u001b[0;34m*\u001b[0m\u001b[0margs\u001b[0m\u001b[0;34m,\u001b[0m \u001b[0;34m**\u001b[0m\u001b[0mkwargs\u001b[0m\u001b[0;34m)\u001b[0m\u001b[0;34m\u001b[0m\u001b[0;34m\u001b[0m\u001b[0m\n\u001b[0m\u001b[1;32m   1682\u001b[0m             \u001b[0;32mreturn\u001b[0m \u001b[0mcur\u001b[0m\u001b[0;34m\u001b[0m\u001b[0;34m\u001b[0m\u001b[0m\n",
      "\u001b[0;31mUndefinedTable\u001b[0m: relation \"sqlite_master\" does not exist\nLINE 1: SELECT name FROM sqlite_master WHERE type='table' AND name=?...\n                         ^\n",
      "\nThe above exception was the direct cause of the following exception:\n",
      "\u001b[0;31mDatabaseError\u001b[0m                             Traceback (most recent call last)",
      "\u001b[0;32m<ipython-input-67-9013035fd4cd>\u001b[0m in \u001b[0;36m<module>\u001b[0;34m\u001b[0m\n\u001b[0;32m----> 1\u001b[0;31m \u001b[0mdf\u001b[0m\u001b[0;34m.\u001b[0m\u001b[0mto_sql\u001b[0m\u001b[0;34m(\u001b[0m\u001b[0;34m'time_poos'\u001b[0m\u001b[0;34m,\u001b[0m \u001b[0mcon\u001b[0m\u001b[0;34m=\u001b[0m\u001b[0mconn\u001b[0m\u001b[0;34m,\u001b[0m \u001b[0mif_exists\u001b[0m\u001b[0;34m=\u001b[0m\u001b[0;34m'append'\u001b[0m\u001b[0;34m,\u001b[0m \u001b[0mindex\u001b[0m\u001b[0;34m=\u001b[0m\u001b[0;32mFalse\u001b[0m\u001b[0;34m)\u001b[0m\u001b[0;34m\u001b[0m\u001b[0;34m\u001b[0m\u001b[0m\n\u001b[0m",
      "\u001b[0;32m~/opt/anaconda3/lib/python3.8/site-packages/pandas/core/generic.py\u001b[0m in \u001b[0;36mto_sql\u001b[0;34m(self, name, con, schema, if_exists, index, index_label, chunksize, dtype, method)\u001b[0m\n\u001b[1;32m   2603\u001b[0m         \u001b[0;32mfrom\u001b[0m \u001b[0mpandas\u001b[0m\u001b[0;34m.\u001b[0m\u001b[0mio\u001b[0m \u001b[0;32mimport\u001b[0m \u001b[0msql\u001b[0m\u001b[0;34m\u001b[0m\u001b[0;34m\u001b[0m\u001b[0m\n\u001b[1;32m   2604\u001b[0m \u001b[0;34m\u001b[0m\u001b[0m\n\u001b[0;32m-> 2605\u001b[0;31m         sql.to_sql(\n\u001b[0m\u001b[1;32m   2606\u001b[0m             \u001b[0mself\u001b[0m\u001b[0;34m,\u001b[0m\u001b[0;34m\u001b[0m\u001b[0;34m\u001b[0m\u001b[0m\n\u001b[1;32m   2607\u001b[0m             \u001b[0mname\u001b[0m\u001b[0;34m,\u001b[0m\u001b[0;34m\u001b[0m\u001b[0;34m\u001b[0m\u001b[0m\n",
      "\u001b[0;32m~/opt/anaconda3/lib/python3.8/site-packages/pandas/io/sql.py\u001b[0m in \u001b[0;36mto_sql\u001b[0;34m(frame, name, con, schema, if_exists, index, index_label, chunksize, dtype, method)\u001b[0m\n\u001b[1;32m    587\u001b[0m         )\n\u001b[1;32m    588\u001b[0m \u001b[0;34m\u001b[0m\u001b[0m\n\u001b[0;32m--> 589\u001b[0;31m     pandas_sql.to_sql(\n\u001b[0m\u001b[1;32m    590\u001b[0m         \u001b[0mframe\u001b[0m\u001b[0;34m,\u001b[0m\u001b[0;34m\u001b[0m\u001b[0;34m\u001b[0m\u001b[0m\n\u001b[1;32m    591\u001b[0m         \u001b[0mname\u001b[0m\u001b[0;34m,\u001b[0m\u001b[0;34m\u001b[0m\u001b[0;34m\u001b[0m\u001b[0m\n",
      "\u001b[0;32m~/opt/anaconda3/lib/python3.8/site-packages/pandas/io/sql.py\u001b[0m in \u001b[0;36mto_sql\u001b[0;34m(self, frame, name, if_exists, index, index_label, schema, chunksize, dtype, method)\u001b[0m\n\u001b[1;32m   1825\u001b[0m             \u001b[0mdtype\u001b[0m\u001b[0;34m=\u001b[0m\u001b[0mdtype\u001b[0m\u001b[0;34m,\u001b[0m\u001b[0;34m\u001b[0m\u001b[0;34m\u001b[0m\u001b[0m\n\u001b[1;32m   1826\u001b[0m         )\n\u001b[0;32m-> 1827\u001b[0;31m         \u001b[0mtable\u001b[0m\u001b[0;34m.\u001b[0m\u001b[0mcreate\u001b[0m\u001b[0;34m(\u001b[0m\u001b[0;34m)\u001b[0m\u001b[0;34m\u001b[0m\u001b[0;34m\u001b[0m\u001b[0m\n\u001b[0m\u001b[1;32m   1828\u001b[0m         \u001b[0mtable\u001b[0m\u001b[0;34m.\u001b[0m\u001b[0minsert\u001b[0m\u001b[0;34m(\u001b[0m\u001b[0mchunksize\u001b[0m\u001b[0;34m,\u001b[0m \u001b[0mmethod\u001b[0m\u001b[0;34m)\u001b[0m\u001b[0;34m\u001b[0m\u001b[0;34m\u001b[0m\u001b[0m\n\u001b[1;32m   1829\u001b[0m \u001b[0;34m\u001b[0m\u001b[0m\n",
      "\u001b[0;32m~/opt/anaconda3/lib/python3.8/site-packages/pandas/io/sql.py\u001b[0m in \u001b[0;36mcreate\u001b[0;34m(self)\u001b[0m\n\u001b[1;32m    719\u001b[0m \u001b[0;34m\u001b[0m\u001b[0m\n\u001b[1;32m    720\u001b[0m     \u001b[0;32mdef\u001b[0m \u001b[0mcreate\u001b[0m\u001b[0;34m(\u001b[0m\u001b[0mself\u001b[0m\u001b[0;34m)\u001b[0m\u001b[0;34m:\u001b[0m\u001b[0;34m\u001b[0m\u001b[0;34m\u001b[0m\u001b[0m\n\u001b[0;32m--> 721\u001b[0;31m         \u001b[0;32mif\u001b[0m \u001b[0mself\u001b[0m\u001b[0;34m.\u001b[0m\u001b[0mexists\u001b[0m\u001b[0;34m(\u001b[0m\u001b[0;34m)\u001b[0m\u001b[0;34m:\u001b[0m\u001b[0;34m\u001b[0m\u001b[0;34m\u001b[0m\u001b[0m\n\u001b[0m\u001b[1;32m    722\u001b[0m             \u001b[0;32mif\u001b[0m \u001b[0mself\u001b[0m\u001b[0;34m.\u001b[0m\u001b[0mif_exists\u001b[0m \u001b[0;34m==\u001b[0m \u001b[0;34m\"fail\"\u001b[0m\u001b[0;34m:\u001b[0m\u001b[0;34m\u001b[0m\u001b[0;34m\u001b[0m\u001b[0m\n\u001b[1;32m    723\u001b[0m                 \u001b[0;32mraise\u001b[0m \u001b[0mValueError\u001b[0m\u001b[0;34m(\u001b[0m\u001b[0;34mf\"Table '{self.name}' already exists.\"\u001b[0m\u001b[0;34m)\u001b[0m\u001b[0;34m\u001b[0m\u001b[0;34m\u001b[0m\u001b[0m\n",
      "\u001b[0;32m~/opt/anaconda3/lib/python3.8/site-packages/pandas/io/sql.py\u001b[0m in \u001b[0;36mexists\u001b[0;34m(self)\u001b[0m\n\u001b[1;32m    706\u001b[0m \u001b[0;34m\u001b[0m\u001b[0m\n\u001b[1;32m    707\u001b[0m     \u001b[0;32mdef\u001b[0m \u001b[0mexists\u001b[0m\u001b[0;34m(\u001b[0m\u001b[0mself\u001b[0m\u001b[0;34m)\u001b[0m\u001b[0;34m:\u001b[0m\u001b[0;34m\u001b[0m\u001b[0;34m\u001b[0m\u001b[0m\n\u001b[0;32m--> 708\u001b[0;31m         \u001b[0;32mreturn\u001b[0m \u001b[0mself\u001b[0m\u001b[0;34m.\u001b[0m\u001b[0mpd_sql\u001b[0m\u001b[0;34m.\u001b[0m\u001b[0mhas_table\u001b[0m\u001b[0;34m(\u001b[0m\u001b[0mself\u001b[0m\u001b[0;34m.\u001b[0m\u001b[0mname\u001b[0m\u001b[0;34m,\u001b[0m \u001b[0mself\u001b[0m\u001b[0;34m.\u001b[0m\u001b[0mschema\u001b[0m\u001b[0;34m)\u001b[0m\u001b[0;34m\u001b[0m\u001b[0;34m\u001b[0m\u001b[0m\n\u001b[0m\u001b[1;32m    709\u001b[0m \u001b[0;34m\u001b[0m\u001b[0m\n\u001b[1;32m    710\u001b[0m     \u001b[0;32mdef\u001b[0m \u001b[0msql_schema\u001b[0m\u001b[0;34m(\u001b[0m\u001b[0mself\u001b[0m\u001b[0;34m)\u001b[0m\u001b[0;34m:\u001b[0m\u001b[0;34m\u001b[0m\u001b[0;34m\u001b[0m\u001b[0m\n",
      "\u001b[0;32m~/opt/anaconda3/lib/python3.8/site-packages/pandas/io/sql.py\u001b[0m in \u001b[0;36mhas_table\u001b[0;34m(self, name, schema)\u001b[0m\n\u001b[1;32m   1836\u001b[0m         \u001b[0mquery\u001b[0m \u001b[0;34m=\u001b[0m \u001b[0;34mf\"SELECT name FROM sqlite_master WHERE type='table' AND name={wld};\"\u001b[0m\u001b[0;34m\u001b[0m\u001b[0;34m\u001b[0m\u001b[0m\n\u001b[1;32m   1837\u001b[0m \u001b[0;34m\u001b[0m\u001b[0m\n\u001b[0;32m-> 1838\u001b[0;31m         \u001b[0;32mreturn\u001b[0m \u001b[0mlen\u001b[0m\u001b[0;34m(\u001b[0m\u001b[0mself\u001b[0m\u001b[0;34m.\u001b[0m\u001b[0mexecute\u001b[0m\u001b[0;34m(\u001b[0m\u001b[0mquery\u001b[0m\u001b[0;34m,\u001b[0m \u001b[0;34m[\u001b[0m\u001b[0mname\u001b[0m\u001b[0;34m]\u001b[0m\u001b[0;34m)\u001b[0m\u001b[0;34m.\u001b[0m\u001b[0mfetchall\u001b[0m\u001b[0;34m(\u001b[0m\u001b[0;34m)\u001b[0m\u001b[0;34m)\u001b[0m \u001b[0;34m>\u001b[0m \u001b[0;36m0\u001b[0m\u001b[0;34m\u001b[0m\u001b[0;34m\u001b[0m\u001b[0m\n\u001b[0m\u001b[1;32m   1839\u001b[0m \u001b[0;34m\u001b[0m\u001b[0m\n\u001b[1;32m   1840\u001b[0m     \u001b[0;32mdef\u001b[0m \u001b[0mget_table\u001b[0m\u001b[0;34m(\u001b[0m\u001b[0mself\u001b[0m\u001b[0;34m,\u001b[0m \u001b[0mtable_name\u001b[0m\u001b[0;34m,\u001b[0m \u001b[0mschema\u001b[0m\u001b[0;34m=\u001b[0m\u001b[0;32mNone\u001b[0m\u001b[0;34m)\u001b[0m\u001b[0;34m:\u001b[0m\u001b[0;34m\u001b[0m\u001b[0;34m\u001b[0m\u001b[0m\n",
      "\u001b[0;32m~/opt/anaconda3/lib/python3.8/site-packages/pandas/io/sql.py\u001b[0m in \u001b[0;36mexecute\u001b[0;34m(self, *args, **kwargs)\u001b[0m\n\u001b[1;32m   1691\u001b[0m \u001b[0;34m\u001b[0m\u001b[0m\n\u001b[1;32m   1692\u001b[0m             \u001b[0mex\u001b[0m \u001b[0;34m=\u001b[0m \u001b[0mDatabaseError\u001b[0m\u001b[0;34m(\u001b[0m\u001b[0;34mf\"Execution failed on sql '{args[0]}': {exc}\"\u001b[0m\u001b[0;34m)\u001b[0m\u001b[0;34m\u001b[0m\u001b[0;34m\u001b[0m\u001b[0m\n\u001b[0;32m-> 1693\u001b[0;31m             \u001b[0;32mraise\u001b[0m \u001b[0mex\u001b[0m \u001b[0;32mfrom\u001b[0m \u001b[0mexc\u001b[0m\u001b[0;34m\u001b[0m\u001b[0;34m\u001b[0m\u001b[0m\n\u001b[0m\u001b[1;32m   1694\u001b[0m \u001b[0;34m\u001b[0m\u001b[0m\n\u001b[1;32m   1695\u001b[0m     \u001b[0;34m@\u001b[0m\u001b[0mstaticmethod\u001b[0m\u001b[0;34m\u001b[0m\u001b[0;34m\u001b[0m\u001b[0m\n",
      "\u001b[0;31mDatabaseError\u001b[0m: Execution failed on sql 'SELECT name FROM sqlite_master WHERE type='table' AND name=?;': relation \"sqlite_master\" does not exist\nLINE 1: SELECT name FROM sqlite_master WHERE type='table' AND name=?...\n                         ^\n"
     ]
    }
   ],
   "source": [
    "df.to_sql('time_poos', con=conn, if_exists='append', index=False)"
   ]
  },
  {
   "cell_type": "code",
   "execution_count": 15,
   "metadata": {},
   "outputs": [],
   "source": [
    "try:\n",
    "    cur.execute(\"\"\"\n",
    "    SELECT version()\n",
    "    \"\"\"\n",
    "    )\n",
    "    # print(cur.fetchall())\n",
    "except Exception as e:\n",
    "    print(e)"
   ]
  },
  {
   "cell_type": "code",
   "execution_count": 16,
   "metadata": {},
   "outputs": [
    {
     "data": {
      "text/plain": [
       "('PostgreSQL 13.4 on x86_64-apple-darwin19.6.0, compiled by Apple clang version 11.0.3 (clang-1103.0.32.62), 64-bit',)"
      ]
     },
     "execution_count": 16,
     "metadata": {},
     "output_type": "execute_result"
    }
   ],
   "source": [
    "cur.fetchone()"
   ]
  },
  {
   "cell_type": "code",
   "execution_count": 38,
   "metadata": {},
   "outputs": [
    {
     "data": {
      "text/plain": [
       "2144"
      ]
     },
     "execution_count": 38,
     "metadata": {},
     "output_type": "execute_result"
    }
   ],
   "source": [
    "file = open()"
   ]
  },
  {
   "cell_type": "code",
   "execution_count": 60,
   "metadata": {},
   "outputs": [
    {
     "data": {
      "text/plain": [
       "<connection object at 0x7fced88f6970; dsn: 'user=postgres password=xxx dbname=hockey host=localhost port=5432', closed: 0>"
      ]
     },
     "execution_count": 60,
     "metadata": {},
     "output_type": "execute_result"
    }
   ],
   "source": [
    "conn"
   ]
  },
  {
   "cell_type": "code",
   "execution_count": 73,
   "metadata": {},
   "outputs": [
    {
     "name": "stdout",
     "output_type": "stream",
     "text": [
      "transform_poopoo\n"
     ]
    }
   ],
   "source": [
    "\n",
    "print('transform_poopoo')\n",
    "data = {}\n",
    "time = datetime.datetime.now()\n",
    "data['time'] = time\n",
    "data['id'] = int(random.random()*10000)\n",
    "data\n",
    "df = pd.DataFrame([data])\n",
    "# df = pd.DataFrame(data, index=data['id'])\n",
    "df.to_csv(f'{os.getcwd()}/data_lol.csv',index=False, mode='a')"
   ]
  },
  {
   "cell_type": "code",
   "execution_count": 77,
   "metadata": {},
   "outputs": [
    {
     "data": {
      "text/plain": [
       "(1, 2)"
      ]
     },
     "execution_count": 77,
     "metadata": {},
     "output_type": "execute_result"
    }
   ],
   "source": [
    "df.shape"
   ]
  },
  {
   "cell_type": "code",
   "execution_count": 24,
   "metadata": {},
   "outputs": [
    {
     "name": "stdout",
     "output_type": "stream",
     "text": [
      "transform_poopoo\n"
     ]
    }
   ],
   "source": [
    "df.set_index('id', inplace=True)\n",
    "df"
   ]
  },
  {
   "cell_type": "code",
   "execution_count": 71,
   "metadata": {},
   "outputs": [],
   "source": [
    "df_new = pd.read_csv(f'{os.getcwd()}/data_lol.csv')"
   ]
  },
  {
   "cell_type": "code",
   "execution_count": 72,
   "metadata": {},
   "outputs": [
    {
     "data": {
      "text/html": [
       "<div>\n",
       "<style scoped>\n",
       "    .dataframe tbody tr th:only-of-type {\n",
       "        vertical-align: middle;\n",
       "    }\n",
       "\n",
       "    .dataframe tbody tr th {\n",
       "        vertical-align: top;\n",
       "    }\n",
       "\n",
       "    .dataframe thead th {\n",
       "        text-align: right;\n",
       "    }\n",
       "</style>\n",
       "<table border=\"1\" class=\"dataframe\">\n",
       "  <thead>\n",
       "    <tr style=\"text-align: right;\">\n",
       "      <th></th>\n",
       "      <th>time</th>\n",
       "      <th>id</th>\n",
       "    </tr>\n",
       "  </thead>\n",
       "  <tbody>\n",
       "    <tr>\n",
       "      <th>0</th>\n",
       "      <td>2021-11-28 16:05:24.792307</td>\n",
       "      <td>9863</td>\n",
       "    </tr>\n",
       "  </tbody>\n",
       "</table>\n",
       "</div>"
      ],
      "text/plain": [
       "                         time    id\n",
       "0  2021-11-28 16:05:24.792307  9863"
      ]
     },
     "execution_count": 72,
     "metadata": {},
     "output_type": "execute_result"
    }
   ],
   "source": [
    "with open(f'{os.getcwd()}/data_lol.csv') as f:\n",
    "    reader = csv.reader(f)\n",
    "    a"
   ]
  },
  {
   "cell_type": "code",
   "execution_count": 69,
   "metadata": {},
   "outputs": [
    {
     "data": {
      "text/plain": [
       "'/Users/danielcollins/airflow/test_scripts'"
      ]
     },
     "execution_count": 69,
     "metadata": {},
     "output_type": "execute_result"
    }
   ],
   "source": [
    "os.getcwd()"
   ]
  },
  {
   "cell_type": "code",
   "execution_count": 59,
   "metadata": {},
   "outputs": [
    {
     "data": {
      "text/html": [
       "<div>\n",
       "<style scoped>\n",
       "    .dataframe tbody tr th:only-of-type {\n",
       "        vertical-align: middle;\n",
       "    }\n",
       "\n",
       "    .dataframe tbody tr th {\n",
       "        vertical-align: top;\n",
       "    }\n",
       "\n",
       "    .dataframe thead th {\n",
       "        text-align: right;\n",
       "    }\n",
       "</style>\n",
       "<table border=\"1\" class=\"dataframe\">\n",
       "  <thead>\n",
       "    <tr style=\"text-align: right;\">\n",
       "      <th></th>\n",
       "      <th>time</th>\n",
       "    </tr>\n",
       "    <tr>\n",
       "      <th>id</th>\n",
       "      <th></th>\n",
       "    </tr>\n",
       "  </thead>\n",
       "  <tbody>\n",
       "    <tr>\n",
       "      <th>9863</th>\n",
       "      <td>2021-11-28 16:05:24.792307</td>\n",
       "    </tr>\n",
       "  </tbody>\n",
       "</table>\n",
       "</div>"
      ],
      "text/plain": [
       "                            time\n",
       "id                              \n",
       "9863  2021-11-28 16:05:24.792307"
      ]
     },
     "execution_count": 59,
     "metadata": {},
     "output_type": "execute_result"
    }
   ],
   "source": [
    "df_new"
   ]
  },
  {
   "cell_type": "code",
   "execution_count": 1,
   "metadata": {},
   "outputs": [],
   "source": [
    "cf_url = 'https://www.capfriendly.com/teams/flames'\n",
    "s_url = 'https://www.spotrac.com/nhl/calgary-flames/'"
   ]
  },
  {
   "cell_type": "code",
   "execution_count": 4,
   "metadata": {},
   "outputs": [],
   "source": [
    "flames = pd.read_html(s_url)"
   ]
  },
  {
   "cell_type": "code",
   "execution_count": 5,
   "metadata": {},
   "outputs": [
    {
     "name": "stdout",
     "output_type": "stream",
     "text": [
      "<class 'list'>\n"
     ]
    }
   ],
   "source": [
    "print(type(flames))"
   ]
  },
  {
   "cell_type": "code",
   "execution_count": 16,
   "metadata": {},
   "outputs": [
    {
     "data": {
      "text/html": [
       "<div>\n",
       "<style scoped>\n",
       "    .dataframe tbody tr th:only-of-type {\n",
       "        vertical-align: middle;\n",
       "    }\n",
       "\n",
       "    .dataframe tbody tr th {\n",
       "        vertical-align: top;\n",
       "    }\n",
       "\n",
       "    .dataframe thead th {\n",
       "        text-align: right;\n",
       "    }\n",
       "</style>\n",
       "<table border=\"1\" class=\"dataframe\">\n",
       "  <thead>\n",
       "    <tr style=\"text-align: right;\">\n",
       "      <th></th>\n",
       "      <th>Center</th>\n",
       "      <th>Pos.</th>\n",
       "      <th>2021</th>\n",
       "      <th>2022</th>\n",
       "      <th>2023</th>\n",
       "      <th>2024</th>\n",
       "      <th>2025</th>\n",
       "    </tr>\n",
       "  </thead>\n",
       "  <tbody>\n",
       "    <tr>\n",
       "      <th>0</th>\n",
       "      <td>Sean Monahan</td>\n",
       "      <td>C</td>\n",
       "      <td>$6,375,000</td>\n",
       "      <td>$6,375,000</td>\n",
       "      <td>UFA</td>\n",
       "      <td>NaN</td>\n",
       "      <td>NaN</td>\n",
       "    </tr>\n",
       "    <tr>\n",
       "      <th>1</th>\n",
       "      <td>Mikael Backlund</td>\n",
       "      <td>C</td>\n",
       "      <td>$5,350,000</td>\n",
       "      <td>$5,350,000</td>\n",
       "      <td>NaN</td>\n",
       "      <td>UFA</td>\n",
       "      <td>NaN</td>\n",
       "    </tr>\n",
       "    <tr>\n",
       "      <th>2</th>\n",
       "      <td>Blake Coleman</td>\n",
       "      <td>C</td>\n",
       "      <td>$4,900,000</td>\n",
       "      <td>$4,900,000</td>\n",
       "      <td>$4,900,000</td>\n",
       "      <td>$4,900,000</td>\n",
       "      <td>$4,900,000</td>\n",
       "    </tr>\n",
       "    <tr>\n",
       "      <th>3</th>\n",
       "      <td>Elias Lindholm</td>\n",
       "      <td>C</td>\n",
       "      <td>$4,850,000</td>\n",
       "      <td>$4,850,000</td>\n",
       "      <td>$4,850,000</td>\n",
       "      <td>UFA</td>\n",
       "      <td>NaN</td>\n",
       "    </tr>\n",
       "    <tr>\n",
       "      <th>4</th>\n",
       "      <td>Dillon Dube</td>\n",
       "      <td>C</td>\n",
       "      <td>$2,300,000</td>\n",
       "      <td>$2,300,000</td>\n",
       "      <td>$2,300,000</td>\n",
       "      <td>RFA</td>\n",
       "      <td>NaN</td>\n",
       "    </tr>\n",
       "    <tr>\n",
       "      <th>5</th>\n",
       "      <td>Adam Ruzicka</td>\n",
       "      <td>C</td>\n",
       "      <td>$801,666</td>\n",
       "      <td>RFA</td>\n",
       "      <td>NaN</td>\n",
       "      <td>NaN</td>\n",
       "      <td>NaN</td>\n",
       "    </tr>\n",
       "    <tr>\n",
       "      <th>6</th>\n",
       "      <td>Trevor Lewis</td>\n",
       "      <td>C</td>\n",
       "      <td>$800,000</td>\n",
       "      <td>UFA</td>\n",
       "      <td>NaN</td>\n",
       "      <td>NaN</td>\n",
       "      <td>NaN</td>\n",
       "    </tr>\n",
       "  </tbody>\n",
       "</table>\n",
       "</div>"
      ],
      "text/plain": [
       "            Center Pos.        2021        2022        2023        2024  \\\n",
       "0     Sean Monahan    C  $6,375,000  $6,375,000         UFA         NaN   \n",
       "1  Mikael Backlund    C  $5,350,000  $5,350,000         NaN         UFA   \n",
       "2    Blake Coleman    C  $4,900,000  $4,900,000  $4,900,000  $4,900,000   \n",
       "3   Elias Lindholm    C  $4,850,000  $4,850,000  $4,850,000         UFA   \n",
       "4      Dillon Dube    C  $2,300,000  $2,300,000  $2,300,000         RFA   \n",
       "5     Adam Ruzicka    C    $801,666         RFA         NaN         NaN   \n",
       "6     Trevor Lewis    C    $800,000         UFA         NaN         NaN   \n",
       "\n",
       "         2025  \n",
       "0         NaN  \n",
       "1         NaN  \n",
       "2  $4,900,000  \n",
       "3         NaN  \n",
       "4         NaN  \n",
       "5         NaN  \n",
       "6         NaN  "
      ]
     },
     "execution_count": 16,
     "metadata": {},
     "output_type": "execute_result"
    }
   ],
   "source": [
    "flames[2]"
   ]
  },
  {
   "cell_type": "code",
   "execution_count": 10,
   "metadata": {},
   "outputs": [
    {
     "name": "stdout",
     "output_type": "stream",
     "text": [
      "               Unnamed: 0         2021         2022         2023         2024  \\\n",
      "0   Total Cap Allocations  $82,198,416  $52,902,500  $32,050,000  $15,450,000   \n",
      "1          Signed Players           26           13            8            3   \n",
      "2                Forwards  $50,071,240  $29,852,500  $12,050,000   $4,900,000   \n",
      "3              Defensemen  $22,750,000  $15,550,000  $14,000,000   $4,550,000   \n",
      "4             Goaltending   $6,750,000   $6,750,000   $6,000,000   $6,000,000   \n",
      "5         Injured Reserve   $2,596,750          NaN          NaN          NaN   \n",
      "6               Suspended          NaN          NaN          NaN          NaN   \n",
      "7  Buried/Buyout/Dead Cap   $1,500,000          NaN          NaN          NaN   \n",
      "\n",
      "          2025  \n",
      "0  $15,450,000  \n",
      "1            3  \n",
      "2   $4,900,000  \n",
      "3   $4,550,000  \n",
      "4   $6,000,000  \n",
      "5          NaN  \n",
      "6          NaN  \n",
      "7          NaN  \n",
      "           Left Wing Pos.        2021        2022 2023  2024  2025\n",
      "0    Matthew Tkachuk   LW  $7,000,000         RFA  NaN   NaN   NaN\n",
      "1    Johnny Gaudreau   LW  $6,750,000         UFA  NaN   NaN   NaN\n",
      "2        Milan Lucic   LW  $6,000,000  $6,000,000  UFA   NaN   NaN\n",
      "3  Andrew Mangiapane   LW  $2,425,000         RFA  NaN   NaN   NaN\n",
      "            Center Pos.        2021        2022        2023        2024  \\\n",
      "0     Sean Monahan    C  $6,375,000  $6,375,000         UFA         NaN   \n",
      "1  Mikael Backlund    C  $5,350,000  $5,350,000         NaN         UFA   \n",
      "2    Blake Coleman    C  $4,900,000  $4,900,000  $4,900,000  $4,900,000   \n",
      "3   Elias Lindholm    C  $4,850,000  $4,850,000  $4,850,000         UFA   \n",
      "4      Dillon Dube    C  $2,300,000  $2,300,000  $2,300,000         RFA   \n",
      "5     Adam Ruzicka    C    $801,666         RFA         NaN         NaN   \n",
      "6     Trevor Lewis    C    $800,000         UFA         NaN         NaN   \n",
      "\n",
      "         2025  \n",
      "0         NaN  \n",
      "1         NaN  \n",
      "2  $4,900,000  \n",
      "3         NaN  \n",
      "4         NaN  \n",
      "5         NaN  \n",
      "6         NaN  \n",
      "        Right Wing Pos.        2021 2022  2023  2024  2025\n",
      "0    Tyler Pitlick   RW  $1,750,000  UFA   NaN   NaN   NaN\n",
      "1     Troy Brouwer   RW  $1,500,000  NaN   NaN   NaN   NaN\n",
      "2    Brett Ritchie   RW    $900,000  UFA   NaN   NaN   NaN\n",
      "3  Brad Richardson   RW    $800,000  UFA   NaN   NaN   NaN\n",
      "          Defenseman Pos.        2021        2022        2023        2024  \\\n",
      "0       Noah Hanifin    D  $4,950,000  $4,950,000  $4,950,000         UFA   \n",
      "1   Rasmus Andersson    D  $4,550,000  $4,550,000  $4,550,000  $4,550,000   \n",
      "2        Chris Tanev    D  $4,500,000  $4,500,000  $4,500,000         UFA   \n",
      "3     Nikita Zadorov    D  $3,750,000         UFA         NaN         NaN   \n",
      "4    Erik Gudbranson    D  $1,950,000         UFA         NaN         NaN   \n",
      "5     Juuso Valimaki    D  $1,550,000  $1,550,000         RFA         NaN   \n",
      "6  Johannes Kinnvall    D    $925,000         RFA         NaN         NaN   \n",
      "7   Oliver Kylington    D    $750,000         RFA         NaN         NaN   \n",
      "\n",
      "         2025  \n",
      "0         NaN  \n",
      "1  $4,550,000  \n",
      "2         NaN  \n",
      "3         NaN  \n",
      "4         NaN  \n",
      "5         NaN  \n",
      "6         NaN  \n",
      "7         NaN  \n",
      "       Goaltending Pos.        2021        2022        2023        2024  \\\n",
      "0  Jacob Markstrom    G  $6,000,000  $6,000,000  $6,000,000  $6,000,000   \n",
      "1    Tyler Parsons    G    $771,750         RFA         NaN         NaN   \n",
      "2    Daniel Vladar    G    $750,000    $750,000         RFA         NaN   \n",
      "\n",
      "         2025  \n",
      "0  $6,000,000  \n",
      "1         NaN  \n",
      "2         NaN  \n",
      "Empty DataFrame\n",
      "Columns: [Unnamed: 0, Pos., 2021, 2022, 2023, 2024, 2025]\n",
      "Index: []\n"
     ]
    }
   ],
   "source": [
    "for i in range(len(flames)):\n",
    "    print(flames[i])"
   ]
  },
  {
   "cell_type": "code",
   "execution_count": 15,
   "metadata": {},
   "outputs": [
    {
     "ename": "IndexError",
     "evalue": "list index out of range",
     "output_type": "error",
     "traceback": [
      "\u001b[0;31m---------------------------------------------------------------------------\u001b[0m",
      "\u001b[0;31mIndexError\u001b[0m                                Traceback (most recent call last)",
      "\u001b[0;32m<ipython-input-15-8902a66843ad>\u001b[0m in \u001b[0;36m<module>\u001b[0;34m\u001b[0m\n\u001b[0;32m----> 1\u001b[0;31m \u001b[0mflames\u001b[0m\u001b[0;34m[\u001b[0m\u001b[0;36m7\u001b[0m\u001b[0;34m]\u001b[0m\u001b[0;34m\u001b[0m\u001b[0;34m\u001b[0m\u001b[0m\n\u001b[0m",
      "\u001b[0;31mIndexError\u001b[0m: list index out of range"
     ]
    }
   ],
   "source": [
    "flames[]"
   ]
  },
  {
   "cell_type": "code",
   "execution_count": 17,
   "metadata": {},
   "outputs": [],
   "source": [
    "flames_df = pd.DataFrame(flames[1])"
   ]
  },
  {
   "cell_type": "code",
   "execution_count": 30,
   "metadata": {},
   "outputs": [
    {
     "data": {
      "text/html": [
       "<div>\n",
       "<style scoped>\n",
       "    .dataframe tbody tr th:only-of-type {\n",
       "        vertical-align: middle;\n",
       "    }\n",
       "\n",
       "    .dataframe tbody tr th {\n",
       "        vertical-align: top;\n",
       "    }\n",
       "\n",
       "    .dataframe thead th {\n",
       "        text-align: right;\n",
       "    }\n",
       "</style>\n",
       "<table border=\"1\" class=\"dataframe\">\n",
       "  <thead>\n",
       "    <tr style=\"text-align: right;\">\n",
       "      <th></th>\n",
       "      <th>0</th>\n",
       "      <th>1</th>\n",
       "      <th>2</th>\n",
       "      <th>3</th>\n",
       "      <th>4</th>\n",
       "      <th>5</th>\n",
       "      <th>6</th>\n",
       "      <th>7</th>\n",
       "      <th>8</th>\n",
       "      <th>9</th>\n",
       "      <th>10</th>\n",
       "      <th>11</th>\n",
       "      <th>12</th>\n",
       "      <th>13</th>\n",
       "      <th>14</th>\n",
       "    </tr>\n",
       "  </thead>\n",
       "  <tbody>\n",
       "    <tr>\n",
       "      <th>0</th>\n",
       "      <td>FORWARDS (13 - $49,351,666)</td>\n",
       "      <td>FORWARDS (13 - $49,351,666)</td>\n",
       "      <td>YEARS REMAINING</td>\n",
       "      <td>TERMS</td>\n",
       "      <td>POS</td>\n",
       "      <td>STATUS</td>\n",
       "      <td>ACQUIRED</td>\n",
       "      <td>AGE</td>\n",
       "      <td>CAP%</td>\n",
       "      <td>2021-22</td>\n",
       "      <td>2022-23</td>\n",
       "      <td>2023-24</td>\n",
       "      <td>2024-25</td>\n",
       "      <td>2025-26</td>\n",
       "      <td>2026-27</td>\n",
       "    </tr>\n",
       "    <tr>\n",
       "      <th>1</th>\n",
       "      <td>Tkachuk, Matthew</td>\n",
       "      <td>Tkachuk, Matthew</td>\n",
       "      <td>1 RFA</td>\n",
       "      <td>NaN</td>\n",
       "      <td>LW, RW</td>\n",
       "      <td>NHL</td>\n",
       "      <td>Draft</td>\n",
       "      <td>23</td>\n",
       "      <td>8.6</td>\n",
       "      <td>$7,000,000$7,000,000$9,000,000$9,000,000$0$0</td>\n",
       "      <td>RFA</td>\n",
       "      <td>NaN</td>\n",
       "      <td>NaN</td>\n",
       "      <td>NaN</td>\n",
       "      <td>NaN</td>\n",
       "    </tr>\n",
       "    <tr>\n",
       "      <th>2</th>\n",
       "      <td>Gaudreau, Johnny</td>\n",
       "      <td>Gaudreau, Johnny</td>\n",
       "      <td>1 UFA</td>\n",
       "      <td>M-NTC</td>\n",
       "      <td>LW</td>\n",
       "      <td>NHL</td>\n",
       "      <td>Draft</td>\n",
       "      <td>28</td>\n",
       "      <td>8.3</td>\n",
       "      <td>$6,750,000$6,750,000$6,750,000$6,750,000$0$0M-NTC</td>\n",
       "      <td>UFA</td>\n",
       "      <td>NaN</td>\n",
       "      <td>NaN</td>\n",
       "      <td>NaN</td>\n",
       "      <td>NaN</td>\n",
       "    </tr>\n",
       "    <tr>\n",
       "      <th>3</th>\n",
       "      <td>Monahan, Sean \"A\"</td>\n",
       "      <td>Monahan, Sean \"A\"</td>\n",
       "      <td>2 UFA</td>\n",
       "      <td>M-NTC</td>\n",
       "      <td>C</td>\n",
       "      <td>NHL</td>\n",
       "      <td>Draft</td>\n",
       "      <td>27</td>\n",
       "      <td>7.8</td>\n",
       "      <td>$6,375,000$6,375,000$6,125,000$6,125,000$0$0M-NTC</td>\n",
       "      <td>$6,375,000$6,375,000$6,000,000$6,000,000$0$0M-NTC</td>\n",
       "      <td>UFA</td>\n",
       "      <td>NaN</td>\n",
       "      <td>NaN</td>\n",
       "      <td>NaN</td>\n",
       "    </tr>\n",
       "    <tr>\n",
       "      <th>4</th>\n",
       "      <td>Backlund, Mikael \"A\"</td>\n",
       "      <td>Backlund, Mikael \"A\"</td>\n",
       "      <td>3 UFA</td>\n",
       "      <td>M-NTC</td>\n",
       "      <td>C</td>\n",
       "      <td>NHL</td>\n",
       "      <td>Draft</td>\n",
       "      <td>32</td>\n",
       "      <td>6.6</td>\n",
       "      <td>$5,350,000$5,350,000$5,350,000$5,350,000$0$0M-NTC</td>\n",
       "      <td>$5,350,000$5,350,000$5,350,000$5,350,000$0$0M-NTC</td>\n",
       "      <td>$5,350,000$5,350,000$5,350,000$5,350,000$0$0M-NTC</td>\n",
       "      <td>UFA</td>\n",
       "      <td>NaN</td>\n",
       "      <td>NaN</td>\n",
       "    </tr>\n",
       "    <tr>\n",
       "      <th>...</th>\n",
       "      <td>...</td>\n",
       "      <td>...</td>\n",
       "      <td>...</td>\n",
       "      <td>...</td>\n",
       "      <td>...</td>\n",
       "      <td>...</td>\n",
       "      <td>...</td>\n",
       "      <td>...</td>\n",
       "      <td>...</td>\n",
       "      <td>...</td>\n",
       "      <td>...</td>\n",
       "      <td>...</td>\n",
       "      <td>...</td>\n",
       "      <td>...</td>\n",
       "      <td>...</td>\n",
       "    </tr>\n",
       "    <tr>\n",
       "      <th>95</th>\n",
       "      <td>GOALIES (2)</td>\n",
       "      <td>GOALIES (2)</td>\n",
       "      <td>YEARS REMAINING</td>\n",
       "      <td>TERMS</td>\n",
       "      <td>POS</td>\n",
       "      <td>STATUS</td>\n",
       "      <td>ACQUIRED</td>\n",
       "      <td>AGE</td>\n",
       "      <td>CAP%</td>\n",
       "      <td>2021-22</td>\n",
       "      <td>2022-23</td>\n",
       "      <td>2023-24</td>\n",
       "      <td>2024-25</td>\n",
       "      <td>2025-26</td>\n",
       "      <td>2026-27</td>\n",
       "    </tr>\n",
       "    <tr>\n",
       "      <th>96</th>\n",
       "      <td>Wolf, Dustin</td>\n",
       "      <td>Wolf, Dustin</td>\n",
       "      <td>3 RFA</td>\n",
       "      <td>ELC</td>\n",
       "      <td>G</td>\n",
       "      <td>Minor</td>\n",
       "      <td>Draft</td>\n",
       "      <td>20</td>\n",
       "      <td>-</td>\n",
       "      <td>$813,333$825,000$70,000$70,000$20,000$82,500</td>\n",
       "      <td>$813,333$825,000$70,000$70,000$0$85,000</td>\n",
       "      <td>$813,333$825,000$70,000$70,000$15,000$0</td>\n",
       "      <td>RFA</td>\n",
       "      <td>NaN</td>\n",
       "      <td>NaN</td>\n",
       "    </tr>\n",
       "    <tr>\n",
       "      <th>97</th>\n",
       "      <td>Werner, Adam</td>\n",
       "      <td>Werner, Adam</td>\n",
       "      <td>1 RFA</td>\n",
       "      <td>NaN</td>\n",
       "      <td>G</td>\n",
       "      <td>Minor</td>\n",
       "      <td>Signed</td>\n",
       "      <td>24</td>\n",
       "      <td>-</td>\n",
       "      <td>$750,000$750,000$100,000$100,000$0$0</td>\n",
       "      <td>RFA</td>\n",
       "      <td>NaN</td>\n",
       "      <td>NaN</td>\n",
       "      <td>NaN</td>\n",
       "      <td>NaN</td>\n",
       "    </tr>\n",
       "    <tr>\n",
       "      <th>98</th>\n",
       "      <td>TOTAL</td>\n",
       "      <td>TOTAL</td>\n",
       "      <td>NaN</td>\n",
       "      <td>NaN</td>\n",
       "      <td>NaN</td>\n",
       "      <td>NaN</td>\n",
       "      <td>NaN</td>\n",
       "      <td>22.0</td>\n",
       "      <td>-</td>\n",
       "      <td>$1,563,333$1,575,000$170,000$170,000$20,000$82...</td>\n",
       "      <td>$813,333$825,000$70,000$70,000$0$85,000</td>\n",
       "      <td>$813,333$825,000$70,000$70,000$15,000$0</td>\n",
       "      <td>NaN</td>\n",
       "      <td>NaN</td>\n",
       "      <td>NaN</td>\n",
       "    </tr>\n",
       "    <tr>\n",
       "      <th>99</th>\n",
       "      <td>NaN</td>\n",
       "      <td>NaN</td>\n",
       "      <td>NaN</td>\n",
       "      <td>NaN</td>\n",
       "      <td>NaN</td>\n",
       "      <td>NaN</td>\n",
       "      <td>NaN</td>\n",
       "      <td>NaN</td>\n",
       "      <td>NaN</td>\n",
       "      <td>NaN</td>\n",
       "      <td>NaN</td>\n",
       "      <td>NaN</td>\n",
       "      <td>NaN</td>\n",
       "      <td>NaN</td>\n",
       "      <td>NaN</td>\n",
       "    </tr>\n",
       "  </tbody>\n",
       "</table>\n",
       "<p>100 rows × 15 columns</p>\n",
       "</div>"
      ],
      "text/plain": [
       "                             0                            1                2   \\\n",
       "0   FORWARDS (13 - $49,351,666)  FORWARDS (13 - $49,351,666)  YEARS REMAINING   \n",
       "1              Tkachuk, Matthew             Tkachuk, Matthew            1 RFA   \n",
       "2              Gaudreau, Johnny             Gaudreau, Johnny            1 UFA   \n",
       "3             Monahan, Sean \"A\"            Monahan, Sean \"A\"            2 UFA   \n",
       "4          Backlund, Mikael \"A\"         Backlund, Mikael \"A\"            3 UFA   \n",
       "..                          ...                          ...              ...   \n",
       "95                  GOALIES (2)                  GOALIES (2)  YEARS REMAINING   \n",
       "96                 Wolf, Dustin                 Wolf, Dustin            3 RFA   \n",
       "97                 Werner, Adam                 Werner, Adam            1 RFA   \n",
       "98                        TOTAL                        TOTAL              NaN   \n",
       "99                          NaN                          NaN              NaN   \n",
       "\n",
       "       3       4       5         6     7     8   \\\n",
       "0   TERMS     POS  STATUS  ACQUIRED   AGE  CAP%   \n",
       "1     NaN  LW, RW     NHL     Draft    23   8.6   \n",
       "2   M-NTC      LW     NHL     Draft    28   8.3   \n",
       "3   M-NTC       C     NHL     Draft    27   7.8   \n",
       "4   M-NTC       C     NHL     Draft    32   6.6   \n",
       "..    ...     ...     ...       ...   ...   ...   \n",
       "95  TERMS     POS  STATUS  ACQUIRED   AGE  CAP%   \n",
       "96    ELC       G   Minor     Draft    20     -   \n",
       "97    NaN       G   Minor    Signed    24     -   \n",
       "98    NaN     NaN     NaN       NaN  22.0     -   \n",
       "99    NaN     NaN     NaN       NaN   NaN   NaN   \n",
       "\n",
       "                                                   9   \\\n",
       "0                                             2021-22   \n",
       "1        $7,000,000$7,000,000$9,000,000$9,000,000$0$0   \n",
       "2   $6,750,000$6,750,000$6,750,000$6,750,000$0$0M-NTC   \n",
       "3   $6,375,000$6,375,000$6,125,000$6,125,000$0$0M-NTC   \n",
       "4   $5,350,000$5,350,000$5,350,000$5,350,000$0$0M-NTC   \n",
       "..                                                ...   \n",
       "95                                            2021-22   \n",
       "96       $813,333$825,000$70,000$70,000$20,000$82,500   \n",
       "97               $750,000$750,000$100,000$100,000$0$0   \n",
       "98  $1,563,333$1,575,000$170,000$170,000$20,000$82...   \n",
       "99                                                NaN   \n",
       "\n",
       "                                                   10  \\\n",
       "0                                             2022-23   \n",
       "1                                                 RFA   \n",
       "2                                                 UFA   \n",
       "3   $6,375,000$6,375,000$6,000,000$6,000,000$0$0M-NTC   \n",
       "4   $5,350,000$5,350,000$5,350,000$5,350,000$0$0M-NTC   \n",
       "..                                                ...   \n",
       "95                                            2022-23   \n",
       "96            $813,333$825,000$70,000$70,000$0$85,000   \n",
       "97                                                RFA   \n",
       "98            $813,333$825,000$70,000$70,000$0$85,000   \n",
       "99                                                NaN   \n",
       "\n",
       "                                                   11       12       13  \\\n",
       "0                                             2023-24  2024-25  2025-26   \n",
       "1                                                 NaN      NaN      NaN   \n",
       "2                                                 NaN      NaN      NaN   \n",
       "3                                                 UFA      NaN      NaN   \n",
       "4   $5,350,000$5,350,000$5,350,000$5,350,000$0$0M-NTC      UFA      NaN   \n",
       "..                                                ...      ...      ...   \n",
       "95                                            2023-24  2024-25  2025-26   \n",
       "96            $813,333$825,000$70,000$70,000$15,000$0      RFA      NaN   \n",
       "97                                                NaN      NaN      NaN   \n",
       "98            $813,333$825,000$70,000$70,000$15,000$0      NaN      NaN   \n",
       "99                                                NaN      NaN      NaN   \n",
       "\n",
       "         14  \n",
       "0   2026-27  \n",
       "1       NaN  \n",
       "2       NaN  \n",
       "3       NaN  \n",
       "4       NaN  \n",
       "..      ...  \n",
       "95  2026-27  \n",
       "96      NaN  \n",
       "97      NaN  \n",
       "98      NaN  \n",
       "99      NaN  \n",
       "\n",
       "[100 rows x 15 columns]"
      ]
     },
     "execution_count": 30,
     "metadata": {},
     "output_type": "execute_result"
    }
   ],
   "source": [
    "flames_df"
   ]
  },
  {
   "cell_type": "code",
   "execution_count": null,
   "metadata": {},
   "outputs": [],
   "source": []
  }
 ],
 "metadata": {
  "interpreter": {
   "hash": "111689e04d53b94374f6db4ace6bfb63a98d0313076d9854b4ae2fb53d40a4a5"
  },
  "kernelspec": {
   "display_name": "Python 3.8.5 64-bit ('base': conda)",
   "language": "python",
   "name": "python3"
  },
  "language_info": {
   "codemirror_mode": {
    "name": "ipython",
    "version": 3
   },
   "file_extension": ".py",
   "mimetype": "text/x-python",
   "name": "python",
   "nbconvert_exporter": "python",
   "pygments_lexer": "ipython3",
   "version": "3.8.5"
  },
  "orig_nbformat": 4
 },
 "nbformat": 4,
 "nbformat_minor": 2
}
